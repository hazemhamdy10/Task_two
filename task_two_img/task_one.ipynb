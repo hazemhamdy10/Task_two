{
 "cells": [
  {
   "cell_type": "code",
   "execution_count": 2,
   "metadata": {},
   "outputs": [],
   "source": [
    "import cv2 \n",
    "import numpy as np \n",
    "import matplotlib.pyplot as plt \n"
   ]
  },
  {
   "cell_type": "markdown",
   "metadata": {},
   "source": [
    "1-Gaussian Blur filter (Smoothing)"
   ]
  },
  {
   "cell_type": "code",
   "execution_count": 2,
   "metadata": {},
   "outputs": [],
   "source": [
    "import cv2\n",
    "import numpy as np\n",
    "\n",
    "cap = cv2.VideoCapture(\"ImageSess2.mp4\")\n",
    "\n",
    "while cap.isOpened():\n",
    "    ret, frame = cap.read()\n",
    "    if not ret:\n",
    "        break\n",
    "\n",
    "    hsv_frame = cv2.cvtColor(frame, cv2.COLOR_BGR2HSV)\n",
    "    blurred_frame = cv2.GaussianBlur(hsv_frame, (15, 15), 0)\n",
    "\n",
    "    lower_bound = np.array([10, 100, 100])\n",
    "    upper_bound = np.array([25, 255, 255])\n",
    "\n",
    "    mask = cv2.inRange(blurred_frame, lower_bound, upper_bound)\n",
    "    orange_regions = cv2.bitwise_and(frame, frame, mask=mask)\n",
    "    cv2.imshow(\"orange region\",orange_regions)\n",
    "    cv2.imshow(\"extraction orange color\", mask)\n",
    "\n",
    "    key = cv2.waitKey(50)\n",
    "    if key == 27: \n",
    "        break\n",
    "\n",
    "cap.release()\n",
    "cv2.destroyAllWindows()\n"
   ]
  },
  {
   "cell_type": "markdown",
   "metadata": {},
   "source": [
    "2-Average Bluring Filter "
   ]
  },
  {
   "cell_type": "code",
   "execution_count": 47,
   "metadata": {},
   "outputs": [],
   "source": [
    "import cv2\n",
    "import numpy as np\n",
    "\n",
    "cap = cv2.VideoCapture(\"ImageSess2.mp4\")\n",
    "\n",
    "while cap.isOpened():\n",
    "    ret, frame = cap.read()\n",
    "    if not ret:\n",
    "        break\n",
    "\n",
    "    hsv_frame = cv2.cvtColor(frame, cv2.COLOR_BGR2HSV)\n",
    "    blurred_frame = cv2.blur(hsv_frame,(15,15))\n",
    "\n",
    "    lower_bound = np.array([10, 100, 100])\n",
    "    upper_bound = np.array([25, 255, 255])\n",
    "\n",
    "    mask = cv2.inRange(blurred_frame, lower_bound, upper_bound)\n",
    "    orange_regions = cv2.bitwise_and(frame, frame, mask=mask)\n",
    "    cv2.imshow(\"orange region\",orange_regions)\n",
    "    cv2.imshow(\"extraction orange color\", mask)\n",
    "\n",
    "    key = cv2.waitKey(50)\n",
    "    if key == 27: \n",
    "        break\n",
    "\n",
    "cap.release()\n",
    "cv2.destroyAllWindows()\n"
   ]
  },
  {
   "cell_type": "markdown",
   "metadata": {},
   "source": [
    "3-Median Blur filter "
   ]
  },
  {
   "cell_type": "code",
   "execution_count": 45,
   "metadata": {},
   "outputs": [],
   "source": [
    "import cv2\n",
    "import numpy as np\n",
    "\n",
    "cap = cv2.VideoCapture(\"ImageSess2.mp4\")\n",
    "\n",
    "while cap.isOpened():\n",
    "    ret, frame = cap.read()\n",
    "    if not ret:\n",
    "        break\n",
    "\n",
    "    hsv_frame = cv2.cvtColor(frame, cv2.COLOR_BGR2HSV)\n",
    "    blurred_frame = cv2.medianBlur(hsv_frame,15)\n",
    "\n",
    "    lower_bound = np.array([10, 100, 100])\n",
    "    upper_bound = np.array([25, 255, 255])\n",
    "\n",
    "    mask = cv2.inRange(blurred_frame, lower_bound, upper_bound)\n",
    "    orange_regions = cv2.bitwise_and(frame, frame, mask=mask)\n",
    "    cv2.imshow(\"orange region\",orange_regions)\n",
    "    cv2.imshow(\"extraction orange color\", mask)\n",
    "\n",
    "    key = cv2.waitKey(50)\n",
    "    if key == 27: \n",
    "        break\n",
    "\n",
    "cap.release()\n",
    "cv2.destroyAllWindows()\n"
   ]
  },
  {
   "cell_type": "markdown",
   "metadata": {},
   "source": [
    "increase the sharpness of the video (the best result)"
   ]
  },
  {
   "cell_type": "code",
   "execution_count": 2,
   "metadata": {},
   "outputs": [],
   "source": [
    "import cv2\n",
    "import numpy as np\n",
    "\n",
    "cap = cv2.VideoCapture(\"ImageSess2.mp4\")\n",
    "\n",
    "while cap.isOpened():\n",
    "    ret, frame = cap.read()\n",
    "    if not ret:\n",
    "        break\n",
    "    kernel=np.array([[-1,-1,-1],\n",
    "                     [-1,9,-1],\n",
    "                     [-1,-1,-1]])\n",
    "    sharpened_frame=cv2.filter2D(frame,-1,kernel)\n",
    "    hsv_frame = cv2.cvtColor(sharpened_frame, cv2.COLOR_BGR2HSV)\n",
    "    # blurred_frame = cv2.medianBlur(hsv_frame,15)\n",
    "\n",
    "\n",
    "    lower_bound = np.array([10, 100, 100])\n",
    "    upper_bound = np.array([25, 255, 255])\n",
    "\n",
    "    mask = cv2.inRange(hsv_frame, lower_bound, upper_bound)\n",
    "    orange_regions = cv2.bitwise_and(sharpened_frame, sharpened_frame, mask=mask)\n",
    "    cv2.imshow(\"orange region\",orange_regions)\n",
    "    cv2.imshow(\"extraction orange color\", mask)\n",
    "\n",
    "    key = cv2.waitKey(50) \n",
    "    if key == 27: \n",
    "        break\n",
    "\n",
    "cap.release()\n",
    "cv2.destroyAllWindows()\n"
   ]
  },
  {
   "cell_type": "code",
   "execution_count": null,
   "metadata": {},
   "outputs": [],
   "source": []
  }
 ],
 "metadata": {
  "kernelspec": {
   "display_name": "Python 3",
   "language": "python",
   "name": "python3"
  },
  "language_info": {
   "codemirror_mode": {
    "name": "ipython",
    "version": 3
   },
   "file_extension": ".py",
   "mimetype": "text/x-python",
   "name": "python",
   "nbconvert_exporter": "python",
   "pygments_lexer": "ipython3",
   "version": "3.11.8"
  }
 },
 "nbformat": 4,
 "nbformat_minor": 2
}
